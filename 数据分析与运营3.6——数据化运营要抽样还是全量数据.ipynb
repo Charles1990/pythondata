{
 "cells": [
  {
   "cell_type": "code",
   "execution_count": 1,
   "metadata": {},
   "outputs": [],
   "source": [
    "#3.6 数据化运营要抽样还是全量数据\n",
    "import random #导入标准库\n",
    "import numpy as np #导入第三方库"
   ]
  },
  {
   "cell_type": "code",
   "execution_count": 12,
   "metadata": {},
   "outputs": [
    {
     "name": "stdout",
     "output_type": "stream",
     "text": [
      "[array([-10.31542772,   9.07007789,   4.64469502,  -6.67408688,  -7.52580395]), array([-9.3439517 ,  8.85675848,  6.46970634, -6.02155518, -7.69422078])]\n"
     ]
    }
   ],
   "source": [
    "#简单随机抽样\n",
    "data=np.loadtxt('/Users/yezhibin/Downloads/书/数据分析书/python_book/chapter3/data3.txt')\n",
    "data_sample = random.sample(list(data), 2000)  # 随机抽取2000个样本\n",
    "print(data_sample[:2]) #打印输出前两条数据"
   ]
  },
  {
   "cell_type": "code",
   "execution_count": 13,
   "metadata": {},
   "outputs": [
    {
     "name": "stdout",
     "output_type": "stream",
     "text": [
      "2000\n"
     ]
    }
   ],
   "source": [
    "print(len(data_sample))#打印输出抽样样本量"
   ]
  },
  {
   "cell_type": "code",
   "execution_count": 14,
   "metadata": {},
   "outputs": [],
   "source": [
    "#等距抽样\n",
    "data=np.loadtxt('/Users/yezhibin/Downloads/书/数据分析书/python_book/chapter3/data3.txt')"
   ]
  },
  {
   "cell_type": "code",
   "execution_count": 18,
   "metadata": {},
   "outputs": [
    {
     "ename": "IndexError",
     "evalue": "only integers, slices (`:`), ellipsis (`...`), numpy.newaxis (`None`) and integer or boolean arrays are valid indices",
     "output_type": "error",
     "traceback": [
      "\u001b[0;31m---------------------------------------------------------------------------\u001b[0m",
      "\u001b[0;31mIndexError\u001b[0m                                Traceback (most recent call last)",
      "\u001b[0;32m<ipython-input-18-0e0c333d38f0>\u001b[0m in \u001b[0;36m<module>\u001b[0;34m()\u001b[0m\n\u001b[1;32m      5\u001b[0m \u001b[0mi\u001b[0m\u001b[0;34m=\u001b[0m\u001b[0;36m0\u001b[0m \u001b[0;31m#自增计数以得到对应索引值\u001b[0m\u001b[0;34m\u001b[0m\u001b[0m\n\u001b[1;32m      6\u001b[0m \u001b[0;32mwhile\u001b[0m \u001b[0mlen\u001b[0m\u001b[0;34m(\u001b[0m\u001b[0mdata_sample\u001b[0m\u001b[0;34m)\u001b[0m \u001b[0;34m<=\u001b[0m \u001b[0msample_count\u001b[0m \u001b[0;32mand\u001b[0m \u001b[0mi\u001b[0m \u001b[0;34m*\u001b[0m \u001b[0mwidth\u001b[0m \u001b[0;34m<=\u001b[0m \u001b[0mrecord_count\u001b[0m \u001b[0;34m-\u001b[0m \u001b[0;36m1\u001b[0m\u001b[0;34m:\u001b[0m  \u001b[0;31m# 当样本量小于等于指定抽样数量并且矩阵索引在有效范围内时\u001b[0m\u001b[0;34m\u001b[0m\u001b[0m\n\u001b[0;32m----> 7\u001b[0;31m     \u001b[0mdata_sample\u001b[0m\u001b[0;34m.\u001b[0m\u001b[0mappend\u001b[0m\u001b[0;34m(\u001b[0m\u001b[0mdata\u001b[0m\u001b[0;34m[\u001b[0m\u001b[0mi\u001b[0m \u001b[0;34m*\u001b[0m \u001b[0mwidth\u001b[0m\u001b[0;34m]\u001b[0m\u001b[0;34m)\u001b[0m  \u001b[0;31m# 新增样本\u001b[0m\u001b[0;34m\u001b[0m\u001b[0m\n\u001b[0m\u001b[1;32m      8\u001b[0m     \u001b[0mi\u001b[0m \u001b[0;34m+=\u001b[0m \u001b[0;36m1\u001b[0m  \u001b[0;31m# 自增长\u001b[0m\u001b[0;34m\u001b[0m\u001b[0m\n\u001b[1;32m      9\u001b[0m \u001b[0;34m\u001b[0m\u001b[0m\n",
      "\u001b[0;31mIndexError\u001b[0m: only integers, slices (`:`), ellipsis (`...`), numpy.newaxis (`None`) and integer or boolean arrays are valid indices"
     ]
    }
   ],
   "source": [
    "sample_count=2000 #指定抽样数量\n",
    "record_count=data.shape[0] #获取最大样本量\n",
    "width=record_count/sample_count #计算抽样间距\n",
    "data_sample=[] #初始化空白列表，用来存放抽样结果数据\n",
    "i=0 #自增计数以得到对应索引值\n",
    "while len(data_sample) <= sample_count and i * width <= record_count - 1:  # 当样本量小于等于指定抽样数量并且矩阵索引在有效范围内时\n",
    "    data_sample.append(data[i * width])  # 新增样本\n",
    "    i += 1  # 自增长\n",
    "    \n",
    "print(data_sample[:2]) #打印输出前2条数据\n"
   ]
  },
  {
   "cell_type": "code",
   "execution_count": 19,
   "metadata": {},
   "outputs": [
    {
     "name": "stdout",
     "output_type": "stream",
     "text": [
      "{0.0: 200, 1.0: 200}\n"
     ]
    }
   ],
   "source": [
    "#分层抽样\n",
    "data2=np.loadtxt('/Users/yezhibin/Downloads/书/数据分析书/python_book/chapter3/data2.txt')\n",
    "each_sample_count=200 #定义每个分层的抽样数量\n",
    "label_data_unique=np.unique(data2[:,-1]) #定义分层值域\n",
    "sample_list=[] #定义空列表，用于存放临时分层数据\n",
    "sample_data=[] #定义空列表，用于存放最终抽样数据\n",
    "sample_dict={} #定义空字典，用来显示各分层样本数量\n",
    "for label_data in label_data_unique: #遍历每个分层标签\n",
    "    for data_tmp in data2: #读取每条数据\n",
    "        if data_tmp[-1] == label_data: #如果数据最后一列等于标签\n",
    "            sample_list.append(data_tmp) #将数据加入到分层数据中\n",
    "    each_sample_data=random.sample(sample_list,each_sample_count) #对每层数据都随机抽样\n",
    "    sample_data.extend(each_sample_data) #将抽样数据追加到总体样本集\n",
    "    sample_dict[label_data]=len(each_sample_data) #样本集统计结果\n",
    "print(sample_dict)\n",
    "\n",
    "\n",
    "\n"
   ]
  },
  {
   "cell_type": "code",
   "execution_count": 25,
   "metadata": {},
   "outputs": [
    {
     "name": "stdout",
     "output_type": "stream",
     "text": [
      "[ 0.  1.  2.  3.]\n",
      "[2.0, 0.0]\n",
      "498000\n"
     ]
    }
   ],
   "source": [
    "#整群抽样\n",
    "data3=np.loadtxt('/Users/yezhibin/Downloads/书/数据分析书/python_book/chapter3/data4.txt')\n",
    "label_data_unique=np.unique(data3[:,-1]) #定义整群标签值域\n",
    "print(label_data_unique) #打印输出所有整群标签\n",
    "sample_label=random.sample(list(label_data_unique),2) #随机抽取2个整群\n",
    "sample_data=[] #定义空列表，用来存储最终抽样数据\n",
    "for each_label in sample_label: #遍历每个整群标签值域\n",
    "    for data_tmp in data3:#遍历每个整群标签值域\n",
    "        for data_tmp in data3: #遍历每个样本\n",
    "            if data_tmp[-1] == each_label: #判断样本是否属于抽样整群\n",
    "                sample_data.append(data_tmp) #样本添加到最终抽样数据集\n",
    "                \n",
    "print(sample_label)\n",
    "print(len(sample_data))"
   ]
  },
  {
   "cell_type": "code",
   "execution_count": null,
   "metadata": {},
   "outputs": [],
   "source": []
  },
  {
   "cell_type": "code",
   "execution_count": null,
   "metadata": {},
   "outputs": [],
   "source": []
  },
  {
   "cell_type": "code",
   "execution_count": null,
   "metadata": {},
   "outputs": [],
   "source": []
  },
  {
   "cell_type": "code",
   "execution_count": null,
   "metadata": {},
   "outputs": [],
   "source": []
  },
  {
   "cell_type": "code",
   "execution_count": null,
   "metadata": {},
   "outputs": [],
   "source": []
  },
  {
   "cell_type": "code",
   "execution_count": null,
   "metadata": {},
   "outputs": [],
   "source": []
  }
 ],
 "metadata": {
  "kernelspec": {
   "display_name": "Python [conda env:py3]",
   "language": "python",
   "name": "conda-env-py3-py"
  },
  "language_info": {
   "codemirror_mode": {
    "name": "ipython",
    "version": 3
   },
   "file_extension": ".py",
   "mimetype": "text/x-python",
   "name": "python",
   "nbconvert_exporter": "python",
   "pygments_lexer": "ipython3",
   "version": "3.6.2"
  }
 },
 "nbformat": 4,
 "nbformat_minor": 2
}
