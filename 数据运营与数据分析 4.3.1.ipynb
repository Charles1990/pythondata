{
 "cells": [
  {
   "cell_type": "code",
   "execution_count": 5,
   "metadata": {},
   "outputs": [],
   "source": [
    "#导入库\n",
    "import numpy as np\n",
    "from sklearn.model_selection import train_test_split #数据分区库\n",
    "from sklearn import tree #导入决策树库\n",
    "from sklearn.metrics import accuracy_score,auc,confusion_matrix,f1_score,precision_score,recall_score,roc_curve\n",
    "import prettytable\n",
    "import pydotplus\n",
    "import matplotlib.pyplot as plt"
   ]
  },
  {
   "cell_type": "code",
   "execution_count": 6,
   "metadata": {},
   "outputs": [],
   "source": [
    "#数据准备\n",
    "raw_data=np.loadtxt('/Users/yezhibin/Downloads/书/数据分析书/python_book/chapter4/classification.csv',delimiter=',',skiprows=1)\n",
    "X=raw_data[:,:-1]\n",
    "y=raw_data[:,-1]\n",
    "X_train,X_test,y_train,y_test=train_test_split(X,y,test_size=.3,random_state=0)"
   ]
  },
  {
   "cell_type": "code",
   "execution_count": 7,
   "metadata": {},
   "outputs": [],
   "source": [
    "#训练分类模型\n",
    "model_tree=tree.DecisionTreeClassifier(random_state=0)\n",
    "model_tree.fit(X_train,y_train)\n",
    "pre_y=model_tree.predict(X_test)"
   ]
  },
  {
   "cell_type": "code",
   "execution_count": 9,
   "metadata": {},
   "outputs": [],
   "source": [
    "#输出分类模型\n",
    "model_tree=tree.DecisionTreeClassifier(random_state=0)\n",
    "model_tree.fit(X_train,y_train)\n",
    "pre_y=model_tree.predict(X_test)"
   ]
  },
  {
   "cell_type": "code",
   "execution_count": 10,
   "metadata": {},
   "outputs": [
    {
     "name": "stdout",
     "output_type": "stream",
     "text": [
      "samples: 21927 \t features: 4\n",
      "----------------------------------------------------------------------\n"
     ]
    }
   ],
   "source": [
    "#输出模型概况\n",
    "n_samples,n_features=X.shape\n",
    "print ('samples: %d \\t features: %d' % (n_samples, n_features))  # 打印输出样本量和特征数量\n",
    "print (70 * '-')  # 打印分隔线"
   ]
  },
  {
   "cell_type": "code",
   "execution_count": 11,
   "metadata": {},
   "outputs": [
    {
     "name": "stdout",
     "output_type": "stream",
     "text": [
      "confusion matrix\n",
      "+---------+---------+\n",
      "| Field 1 | Field 2 |\n",
      "+---------+---------+\n",
      "|   5617  |   282   |\n",
      "|   321   |   359   |\n",
      "+---------+---------+\n"
     ]
    }
   ],
   "source": [
    "confusion_m = confusion_matrix(y_test, pre_y)  # 获得混淆矩阵\n",
    "confusion_matrix_table = prettytable.PrettyTable()  # 创建表格实例\n",
    "confusion_matrix_table.add_row(confusion_m[0, :])  # 增加第一行数据\n",
    "confusion_matrix_table.add_row(confusion_m[1, :])  # 增加第二行数据\n",
    "print ('confusion matrix')\n",
    "print (confusion_matrix_table)  # 打印输出混淆矩阵"
   ]
  },
  {
   "cell_type": "code",
   "execution_count": 12,
   "metadata": {},
   "outputs": [
    {
     "name": "stdout",
     "output_type": "stream",
     "text": [
      "core metrics\n",
      "+---------------+----------------+----------------+----------------+----------------+\n",
      "|      auc      |    accuracy    |   precision    |     recall     |       f1       |\n",
      "+---------------+----------------+----------------+----------------+----------------+\n",
      "| 0.75004437442 | 0.908344733242 | 0.560062402496 | 0.527941176471 | 0.543527630583 |\n",
      "+---------------+----------------+----------------+----------------+----------------+\n"
     ]
    }
   ],
   "source": [
    "# 核心评估指标\n",
    "y_score = model_tree.predict_proba(X_test)  # 获得决策树的预测概率\n",
    "fpr, tpr, thresholds = roc_curve(y_test, y_score[:, 1])  # ROC\n",
    "auc_s = auc(fpr, tpr)  # AUC\n",
    "accuracy_s = accuracy_score(y_test, pre_y)  # 准确率\n",
    "precision_s = precision_score(y_test, pre_y)  # 精确度\n",
    "recall_s = recall_score(y_test, pre_y)  # 召回率\n",
    "f1_s = f1_score(y_test, pre_y)  # F1得分\n",
    "core_metrics = prettytable.PrettyTable()  # 创建表格实例\n",
    "core_metrics.field_names = ['auc', 'accuracy', 'precision', 'recall', 'f1']  # 定义表格列名\n",
    "core_metrics.add_row([auc_s, accuracy_s, precision_s, recall_s, f1_s])  # 增加数据\n",
    "print ('core metrics')\n",
    "print (core_metrics)  # 打印输出核心评估指标"
   ]
  },
  {
   "cell_type": "code",
   "execution_count": null,
   "metadata": {},
   "outputs": [],
   "source": []
  },
  {
   "cell_type": "code",
   "execution_count": null,
   "metadata": {},
   "outputs": [],
   "source": []
  },
  {
   "cell_type": "code",
   "execution_count": null,
   "metadata": {},
   "outputs": [],
   "source": []
  },
  {
   "cell_type": "code",
   "execution_count": null,
   "metadata": {},
   "outputs": [],
   "source": []
  },
  {
   "cell_type": "code",
   "execution_count": null,
   "metadata": {},
   "outputs": [],
   "source": []
  },
  {
   "cell_type": "code",
   "execution_count": null,
   "metadata": {},
   "outputs": [],
   "source": []
  },
  {
   "cell_type": "code",
   "execution_count": null,
   "metadata": {},
   "outputs": [],
   "source": []
  },
  {
   "cell_type": "code",
   "execution_count": null,
   "metadata": {},
   "outputs": [],
   "source": []
  }
 ],
 "metadata": {
  "kernelspec": {
   "display_name": "Python [conda env:py3]",
   "language": "python",
   "name": "conda-env-py3-py"
  },
  "language_info": {
   "codemirror_mode": {
    "name": "ipython",
    "version": 3
   },
   "file_extension": ".py",
   "mimetype": "text/x-python",
   "name": "python",
   "nbconvert_exporter": "python",
   "pygments_lexer": "ipython3",
   "version": "3.6.2"
  }
 },
 "nbformat": 4,
 "nbformat_minor": 2
}
