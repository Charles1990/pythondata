{
 "cells": [
  {
   "cell_type": "code",
   "execution_count": 1,
   "metadata": {},
   "outputs": [],
   "source": [
    "import numpy as np\n",
    "from sklearn.linear_model import Ridge\n",
    "from sklearn.decomposition import PCA\n",
    "from sklearn.linear_model import LinearRegression"
   ]
  },
  {
   "cell_type": "code",
   "execution_count": 2,
   "metadata": {},
   "outputs": [],
   "source": [
    "#读取数据\n",
    "data=np.loadtxt('/Users/yezhibin/Downloads/书/数据分析书/python_book/chapter3/data5.txt',delimiter='\\t')\n",
    "x=data[:,:-1]\n",
    "y=data[:,-1]"
   ]
  },
  {
   "cell_type": "code",
   "execution_count": 4,
   "metadata": {},
   "outputs": [
    {
     "name": "stdout",
     "output_type": "stream",
     "text": [
      "[  8.50164360e+01  -1.18330186e-03   9.80792921e-04  -8.54201056e-04\n",
      "   2.10489064e-05   2.20180449e-04  -3.00990875e-06  -9.30084240e-06\n",
      "  -2.84498824e-08]\n",
      "-7443.98652868\n"
     ]
    }
   ],
   "source": [
    "#使用岭回归算法进行回归分析\n",
    "model_ridge=Ridge(alpha=1.0)\n",
    "model_ridge.fit(x,y) #输入x/y训练模型\n",
    "print(model_ridge.coef_) #打印输出自变量的系数\n",
    "print(model_ridge.intercept_)"
   ]
  },
  {
   "cell_type": "code",
   "execution_count": 5,
   "metadata": {},
   "outputs": [
    {
     "name": "stdout",
     "output_type": "stream",
     "text": [
      "[ 0.9028      0.98570494  0.99957412  0.99995908  0.99999562  0.99999939\n",
      "  0.99999999  1.          1.        ]\n"
     ]
    }
   ],
   "source": [
    "#使用主成分回归进行回归分析\n",
    "model_pca=PCA() #建立PCA模型对象\n",
    "data_pca=model_pca.fit_transform(x) #将x进行主成分分析\n",
    "ratio_cumsm=np.cumsum(model_pca.explained_variance_ratio_) #得到主成分方差占比的累计数据\n",
    "print(ratio_cumsm)"
   ]
  },
  {
   "cell_type": "code",
   "execution_count": 7,
   "metadata": {},
   "outputs": [
    {
     "name": "stdout",
     "output_type": "stream",
     "text": [
      "[  1.26262171e-05]\n"
     ]
    }
   ],
   "source": [
    "rule_index=np.where(ratio_cumsm>0.8) #获取方差占比超过0.8 的所有索引值\n",
    "min_index=rule_index[0][0] #获取最小索引值\n",
    "data_pca_result=data_pca[:,:min_index+1] #根据最小索引值提取主成分\n",
    "model_liner=LinearRegression() #建立回归模型对象\n",
    "model_liner.fit(data_pca_result,y) #打印输出自变量的系数\n",
    "print(model_liner.coef_)"
   ]
  },
  {
   "cell_type": "code",
   "execution_count": 8,
   "metadata": {},
   "outputs": [
    {
     "name": "stdout",
     "output_type": "stream",
     "text": [
      "1058.52726\n"
     ]
    }
   ],
   "source": [
    "print(model_liner.intercept_)"
   ]
  },
  {
   "cell_type": "code",
   "execution_count": null,
   "metadata": {},
   "outputs": [],
   "source": []
  },
  {
   "cell_type": "code",
   "execution_count": null,
   "metadata": {},
   "outputs": [],
   "source": []
  },
  {
   "cell_type": "code",
   "execution_count": null,
   "metadata": {},
   "outputs": [],
   "source": []
  },
  {
   "cell_type": "code",
   "execution_count": null,
   "metadata": {},
   "outputs": [],
   "source": []
  },
  {
   "cell_type": "code",
   "execution_count": null,
   "metadata": {},
   "outputs": [],
   "source": []
  }
 ],
 "metadata": {
  "kernelspec": {
   "display_name": "Python [conda env:py3]",
   "language": "python",
   "name": "conda-env-py3-py"
  },
  "language_info": {
   "codemirror_mode": {
    "name": "ipython",
    "version": 3
   },
   "file_extension": ".py",
   "mimetype": "text/x-python",
   "name": "python",
   "nbconvert_exporter": "python",
   "pygments_lexer": "ipython3",
   "version": "3.6.2"
  }
 },
 "nbformat": 4,
 "nbformat_minor": 2
}
