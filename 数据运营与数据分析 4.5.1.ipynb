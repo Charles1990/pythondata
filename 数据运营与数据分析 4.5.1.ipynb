{
 "cells": [
  {
   "cell_type": "code",
   "execution_count": 2,
   "metadata": {},
   "outputs": [],
   "source": [
    "from sklearn.svm import OneClassSVM\n",
    "import numpy as np\n",
    "import matplotlib.pyplot as plt\n",
    "from mpl_toolkits.mplot3d import Axes3D"
   ]
  },
  {
   "cell_type": "code",
   "execution_count": 4,
   "metadata": {},
   "outputs": [],
   "source": [
    "raw_data=np.loadtxt('/Users/yezhibin/Downloads/书/数据分析书/python_book/chapter4/outlier.txt',delimiter=' ')\n",
    "train_set=raw_data[:900,:]\n",
    "test_set=raw_data[900:,:]"
   ]
  },
  {
   "cell_type": "code",
   "execution_count": 6,
   "metadata": {},
   "outputs": [],
   "source": [
    "#异常检测分析\n",
    "model_onecalsssvm=OneClassSVM(nu=0.1,kernel='rbf',random_state=0) #创建异常检测算法模型对象\n",
    "model_onecalsssvm.fit(train_set) #训练模型\n",
    "pre_test_outliers=model_onecalsssvm.predict(test_set)"
   ]
  },
  {
   "cell_type": "code",
   "execution_count": 8,
   "metadata": {},
   "outputs": [
    {
     "name": "stdout",
     "output_type": "stream",
     "text": [
      "outliers: 9/100\n",
      "**************** all result data (limit 5) *****************\n",
      "[[ 0.02556003  0.00803704  0.01359044 -0.01797511  0.02275128  1.        ]\n",
      " [ 0.03402373 -0.0051787  -0.02550607 -0.00169221  0.04747183  1.        ]\n",
      " [ 0.00586382  0.00212346  0.00672234  0.03181351  0.00295844  1.        ]\n",
      " [-0.01463104 -0.01212641 -0.01317896  0.0048775  -0.05054379  1.        ]\n",
      " [ 0.02214313 -0.02276267  0.02436253 -0.05875858 -0.01724721  1.        ]]\n"
     ]
    }
   ],
   "source": [
    "#异常结果统计\n",
    "toal_test_data=np.hstack((test_set,pre_test_outliers.reshape(test_set.shape[0],1))) #将测试集和检测结果合并\n",
    "normal_test_data=toal_test_data[toal_test_data[:,-1] == 1] #获得异常检测结果中正常的数据集\n",
    "outlier_test_data=toal_test_data[toal_test_data[:,-1] == -1] #获得异常检测结果中异常数据\n",
    "n_test_outliers=outlier_test_data.shape[0] #获得异常的结果数量\n",
    "total_count_test = toal_test_data.shape[0] #获得测试集样本量\n",
    "print ('outliers: {0}/{1}'.format(n_test_outliers, total_count_test))  # 输出异常的结果数量\n",
    "print ('{:*^60}'.format(' all result data (limit 5) '))  # 打印标题\n",
    "print (toal_test_data[:5])  # 打印输出前5条合并后的数据集"
   ]
  },
  {
   "cell_type": "code",
   "execution_count": null,
   "metadata": {},
   "outputs": [],
   "source": [
    "#异常检测结果展示\n",
    "plt.style.use('ggplot')\n",
    "fig=plt.figure() #创建画布对象\n",
    "ax=A"
   ]
  },
  {
   "cell_type": "code",
   "execution_count": null,
   "metadata": {},
   "outputs": [],
   "source": []
  },
  {
   "cell_type": "code",
   "execution_count": null,
   "metadata": {},
   "outputs": [],
   "source": []
  },
  {
   "cell_type": "code",
   "execution_count": null,
   "metadata": {},
   "outputs": [],
   "source": []
  },
  {
   "cell_type": "code",
   "execution_count": null,
   "metadata": {},
   "outputs": [],
   "source": []
  },
  {
   "cell_type": "code",
   "execution_count": null,
   "metadata": {},
   "outputs": [],
   "source": []
  },
  {
   "cell_type": "code",
   "execution_count": null,
   "metadata": {},
   "outputs": [],
   "source": []
  },
  {
   "cell_type": "code",
   "execution_count": null,
   "metadata": {},
   "outputs": [],
   "source": []
  },
  {
   "cell_type": "code",
   "execution_count": null,
   "metadata": {},
   "outputs": [],
   "source": []
  },
  {
   "cell_type": "code",
   "execution_count": null,
   "metadata": {},
   "outputs": [],
   "source": []
  },
  {
   "cell_type": "code",
   "execution_count": null,
   "metadata": {},
   "outputs": [],
   "source": []
  }
 ],
 "metadata": {
  "kernelspec": {
   "display_name": "Python [conda env:py3]",
   "language": "python",
   "name": "conda-env-py3-py"
  },
  "language_info": {
   "codemirror_mode": {
    "name": "ipython",
    "version": 3
   },
   "file_extension": ".py",
   "mimetype": "text/x-python",
   "name": "python",
   "nbconvert_exporter": "python",
   "pygments_lexer": "ipython3",
   "version": "3.6.2"
  }
 },
 "nbformat": 4,
 "nbformat_minor": 2
}
