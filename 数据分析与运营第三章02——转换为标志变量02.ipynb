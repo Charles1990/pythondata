{
 "cells": [
  {
   "cell_type": "code",
   "execution_count": 1,
   "metadata": {},
   "outputs": [
    {
     "name": "stderr",
     "output_type": "stream",
     "text": [
      "/Users/qingmo/anaconda3/lib/python3.6/importlib/_bootstrap.py:219: RuntimeWarning: numpy.dtype size changed, may indicate binary incompatibility. Expected 96, got 88\n",
      "  return f(*args, **kwds)\n",
      "/Users/qingmo/anaconda3/lib/python3.6/importlib/_bootstrap.py:219: RuntimeWarning: numpy.dtype size changed, may indicate binary incompatibility. Expected 96, got 88\n",
      "  return f(*args, **kwds)\n"
     ]
    },
    {
     "name": "stdout",
     "output_type": "stream",
     "text": [
      "        id     sex   level\n",
      "0  3566841    male    high\n",
      "1  6541227  Female     low\n",
      "2  3512441  Female  middle\n"
     ]
    }
   ],
   "source": [
    "#3.2 将分类数据和顺序数据转换为标志变量\n",
    "import pandas as pd\n",
    "import numpy as np\n",
    "from sklearn.preprocessing import OneHotEncoder\n",
    "\n",
    "#生成数据\n",
    "df = pd.DataFrame({'id': [3566841, 6541227, 3512441],\n",
    "                   'sex': ['male', 'Female', 'Female'],\n",
    "                   'level': ['high', 'low', 'middle']})\n",
    "print (df)  # 打印输出原始数据框\n",
    "\n"
   ]
  },
  {
   "cell_type": "code",
   "execution_count": 2,
   "metadata": {},
   "outputs": [
    {
     "name": "stdout",
     "output_type": "stream",
     "text": [
      "        id  sex_male  sex_Female  level_high  level_low  level_middle\n",
      "0  3566841      True       False        True      False         False\n",
      "1  6541227     False        True       False       True         False\n",
      "2  3512441     False        True       False      False          True\n"
     ]
    }
   ],
   "source": [
    "#自定义转换主过程\n",
    "df_new=df.copy() #复制一份新的数据框用来存储结果\n",
    "for col_num,col_name in enumerate(df): #循环读出每个列的索引值和列名\n",
    "    col_data=df[col_name] #获得每列数据\n",
    "    col_dtype=col_data.dtype #获得每列dtype类型\n",
    "    if col_dtype=='object': #如果dtype类型是object（非数值型），执行条件\n",
    "        df_new=df_new.drop(col_name,1) #删除df数据框中要进行标志转换的列\n",
    "        value_sets=col_data.unique() #获取分类的顺序和变量的唯一值域\n",
    "        for value_unique in value_sets: #读取分类和顺序变量中的每个值\n",
    "            col_name_new=col_name+'_'+value_unique #创建新的列名，使用原标题+值的方式命名\n",
    "            col_tmp=df.iloc[:,col_num] #获取原始数据列\n",
    "            new_col=(col_tmp==value_unique) #将原始数据列与每个值进行比较，相同为true，否则为false\n",
    "            df_new[col_name_new]=new_col #为最终结果集增加新列值\n",
    "            \n",
    "\n",
    "print(df_new)\n",
    "    \n",
    "\n"
   ]
  },
  {
   "cell_type": "code",
   "execution_count": null,
   "metadata": {},
   "outputs": [],
   "source": [
    "#使用sklearn 进行标志转换\n",
    "df2 = pd.DataFrame({'id': [3566841, 6541227, 3512441],\n",
    "                    'sex': [1, 2, 2],\n",
    "                    'level': [3, 1, 2]})\n",
    "id_data=df2.values[:,:1]\n",
    "transform_data=df2.values[:,1:] #制定要转换的列\n",
    "enc=OneHotEncoder() #建立模型对象\n",
    "df2_new=enc.fit_transform(transform_data).toarry() #标志转换\n",
    "df2_all=pd.concat((pd))"
   ]
  },
  {
   "cell_type": "code",
   "execution_count": null,
   "metadata": {},
   "outputs": [],
   "source": []
  },
  {
   "cell_type": "code",
   "execution_count": null,
   "metadata": {},
   "outputs": [],
   "source": []
  },
  {
   "cell_type": "code",
   "execution_count": null,
   "metadata": {},
   "outputs": [],
   "source": []
  },
  {
   "cell_type": "code",
   "execution_count": null,
   "metadata": {},
   "outputs": [],
   "source": []
  }
 ],
 "metadata": {
  "kernelspec": {
   "display_name": "Python [conda env:anaconda3]",
   "language": "python",
   "name": "conda-env-anaconda3-py"
  },
  "language_info": {
   "codemirror_mode": {
    "name": "ipython",
    "version": 3
   },
   "file_extension": ".py",
   "mimetype": "text/x-python",
   "name": "python",
   "nbconvert_exporter": "python",
   "pygments_lexer": "ipython3",
   "version": "3.6.5"
  }
 },
 "nbformat": 4,
 "nbformat_minor": 2
}
