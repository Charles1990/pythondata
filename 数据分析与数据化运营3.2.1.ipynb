{
 "cells": [
  {
   "cell_type": "code",
   "execution_count": 17,
   "metadata": {},
   "outputs": [],
   "source": [
    "#将分类数据和顺序数据转换为标志变量\n",
    "import pandas as pd\n",
    "from sklearn.preprocessing import OneHotEncoder #导入XX库"
   ]
  },
  {
   "cell_type": "code",
   "execution_count": 18,
   "metadata": {},
   "outputs": [
    {
     "name": "stdout",
     "output_type": "stream",
     "text": [
      "       id     sex   level\n",
      "0   35432    male    high\n",
      "1   45332  Female     low\n",
      "2  987473  Female  middle\n"
     ]
    }
   ],
   "source": [
    "#生成数据\n",
    "df=pd.DataFrame({'id':[35432,45332,987473],\n",
    "                 'sex':['male','Female','Female'],\n",
    "                 'level':['high','low','middle']})\n",
    "print(df)"
   ]
  },
  {
   "cell_type": "code",
   "execution_count": 19,
   "metadata": {},
   "outputs": [
    {
     "name": "stdout",
     "output_type": "stream",
     "text": [
      "       id  sex_male  sex_Female  level_high  level_low  level_middle\n",
      "0   35432      True       False        True      False         False\n",
      "1   45332     False        True       False       True         False\n",
      "2  987473     False        True       False      False          True\n"
     ]
    }
   ],
   "source": [
    "df_new = df.copy()  # 复制一份新的数据框用来存储转换结果\n",
    "for col_num, col_name in enumerate(df):  # 循环读出每个列的索引值和列名\n",
    "    col_data = df[col_name]  # 获得每列数据\n",
    "    col_dtype = col_data.dtype  # 获得每列dtype类型\n",
    "    if col_dtype == 'object':  # 如果dtype类型是object（非数值型），执行条件\n",
    "        df_new = df_new.drop(col_name, 1)  # 删除df数据框中要进行标志转换的列\n",
    "        value_sets = col_data.unique()  # 获取分类和顺序变量的唯一值域\n",
    "        for value_unique in value_sets:  # 读取分类和顺序变量中的每个值\n",
    "            col_name_new = col_name + '_' + value_unique  # 创建新的列名，使用原标题+值的方式命名\n",
    "            col_tmp = df.iloc[:, col_num]  # 获取原始数据列\n",
    "            new_col = (col_tmp == value_unique)  # 将原始数据列与每个值进行比较，相同为True，否则为False\n",
    "            df_new[col_name_new] = new_col  # 为最终结果集增加新列值\n",
    "print (df_new)  # 打印输出转换后的数据框\n"
   ]
  },
  {
   "cell_type": "code",
   "execution_count": 20,
   "metadata": {},
   "outputs": [
    {
     "name": "stdout",
     "output_type": "stream",
     "text": [
      "[[3566841]\n",
      " [6541227]\n",
      " [3512441]]\n"
     ]
    }
   ],
   "source": [
    "#使用sklearn\n",
    "df2 = pd.DataFrame({'id': [3566841, 6541227, 3512441],\n",
    "                    'sex': [1, 2, 2],\n",
    "                    'level': [3, 1, 2]})\n",
    "\n",
    "id_data=df2.values[:,:1]\n",
    "print(id_data)"
   ]
  },
  {
   "cell_type": "code",
   "execution_count": 21,
   "metadata": {},
   "outputs": [
    {
     "name": "stdout",
     "output_type": "stream",
     "text": [
      "[[1 3]\n",
      " [2 1]\n",
      " [2 2]]\n"
     ]
    }
   ],
   "source": [
    "df3=df2.values[:,1:]\n",
    "print(df3)"
   ]
  },
  {
   "cell_type": "code",
   "execution_count": 22,
   "metadata": {},
   "outputs": [
    {
     "name": "stdout",
     "output_type": "stream",
     "text": [
      "        id  sex  level\n",
      "0  3566841    1      3\n",
      "1  6541227    2      1\n",
      "2  3512441    2      2\n"
     ]
    }
   ],
   "source": [
    "print(df2)"
   ]
  },
  {
   "cell_type": "code",
   "execution_count": 24,
   "metadata": {},
   "outputs": [
    {
     "name": "stdout",
     "output_type": "stream",
     "text": [
      "         0    0    1    2    3    4\n",
      "0  3566841  1.0  0.0  0.0  0.0  1.0\n",
      "1  6541227  0.0  1.0  1.0  0.0  0.0\n",
      "2  3512441  0.0  1.0  0.0  1.0  0.0\n"
     ]
    }
   ],
   "source": [
    "id_data=df2.values[:,1:]\n",
    "enc=OneHotEncoder()\n",
    "df2_new=enc.fit_transform(transform_data).toarray() #标志转换\n",
    "df2_all=pd.concat((pd.DataFrame(id_data),pd.DataFrame(df2_new)),axis=1)\n",
    "print(df2_all)\n",
    "\n"
   ]
  },
  {
   "cell_type": "code",
   "execution_count": null,
   "metadata": {},
   "outputs": [],
   "source": [
    "df2 = pd.DataFrame({'id': [3566841, 6541227, 3512441],\n",
    "                    'sex': [1, 2, 2],\n",
    "                    'level': [3, 1, 2]})\n",
    "id_data = df2.values[:, :1]  # 获得ID列\n",
    "transform_data = df2.values[:, 1:]  # 指定要转换的列\n",
    "enc = OneHotEncoder()  # 建立模型对象\n",
    "df2_new = enc.fit_transform(transform_data).toarray()  # 标志转换\n",
    "df2_all = pd.concat((pd.DataFrame(id_data), pd.DataFrame(df2_new)), axis=1)  # 组合为数据框\n",
    "print (df2_all) "
   ]
  },
  {
   "cell_type": "code",
   "execution_count": null,
   "metadata": {},
   "outputs": [],
   "source": []
  },
  {
   "cell_type": "code",
   "execution_count": null,
   "metadata": {},
   "outputs": [],
   "source": []
  },
  {
   "cell_type": "code",
   "execution_count": null,
   "metadata": {},
   "outputs": [],
   "source": []
  },
  {
   "cell_type": "code",
   "execution_count": null,
   "metadata": {},
   "outputs": [],
   "source": []
  },
  {
   "cell_type": "code",
   "execution_count": null,
   "metadata": {},
   "outputs": [],
   "source": []
  },
  {
   "cell_type": "code",
   "execution_count": null,
   "metadata": {},
   "outputs": [],
   "source": []
  },
  {
   "cell_type": "code",
   "execution_count": null,
   "metadata": {},
   "outputs": [],
   "source": []
  },
  {
   "cell_type": "code",
   "execution_count": null,
   "metadata": {},
   "outputs": [],
   "source": []
  },
  {
   "cell_type": "code",
   "execution_count": null,
   "metadata": {},
   "outputs": [],
   "source": []
  },
  {
   "cell_type": "code",
   "execution_count": null,
   "metadata": {},
   "outputs": [],
   "source": []
  },
  {
   "cell_type": "code",
   "execution_count": null,
   "metadata": {},
   "outputs": [],
   "source": []
  },
  {
   "cell_type": "code",
   "execution_count": null,
   "metadata": {},
   "outputs": [],
   "source": []
  },
  {
   "cell_type": "code",
   "execution_count": null,
   "metadata": {},
   "outputs": [],
   "source": []
  },
  {
   "cell_type": "code",
   "execution_count": null,
   "metadata": {},
   "outputs": [],
   "source": []
  },
  {
   "cell_type": "code",
   "execution_count": null,
   "metadata": {},
   "outputs": [],
   "source": []
  },
  {
   "cell_type": "code",
   "execution_count": null,
   "metadata": {},
   "outputs": [],
   "source": []
  },
  {
   "cell_type": "code",
   "execution_count": null,
   "metadata": {},
   "outputs": [],
   "source": []
  },
  {
   "cell_type": "code",
   "execution_count": null,
   "metadata": {},
   "outputs": [],
   "source": []
  },
  {
   "cell_type": "code",
   "execution_count": null,
   "metadata": {},
   "outputs": [],
   "source": []
  },
  {
   "cell_type": "code",
   "execution_count": null,
   "metadata": {},
   "outputs": [],
   "source": []
  },
  {
   "cell_type": "code",
   "execution_count": null,
   "metadata": {},
   "outputs": [],
   "source": []
  },
  {
   "cell_type": "code",
   "execution_count": null,
   "metadata": {},
   "outputs": [],
   "source": []
  }
 ],
 "metadata": {
  "kernelspec": {
   "display_name": "Python [conda env:anaconda3]",
   "language": "python",
   "name": "conda-env-anaconda3-py"
  },
  "language_info": {
   "codemirror_mode": {
    "name": "ipython",
    "version": 3
   },
   "file_extension": ".py",
   "mimetype": "text/x-python",
   "name": "python",
   "nbconvert_exporter": "python",
   "pygments_lexer": "ipython3",
   "version": "3.6.5"
  }
 },
 "nbformat": 4,
 "nbformat_minor": 2
}
