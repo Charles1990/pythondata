{
 "cells": [
  {
   "cell_type": "code",
   "execution_count": 2,
   "metadata": {},
   "outputs": [],
   "source": [
    "import pandas as pd\n",
    "import numpy as np\n",
    "from sklearn.preprocessing import Imputer"
   ]
  },
  {
   "cell_type": "code",
   "execution_count": 4,
   "metadata": {},
   "outputs": [
    {
     "name": "stdout",
     "output_type": "stream",
     "text": [
      "       col1      col2      col3      col4\n",
      "0  1.735633 -0.405727 -0.515646 -0.928232\n",
      "1 -0.153444       NaN  0.409557 -0.142822\n",
      "2  0.102754 -0.249986  0.397377 -1.463378\n",
      "3  0.010413  1.011308  0.878598  0.021060\n",
      "4 -0.300253 -0.461628 -1.096326       NaN\n",
      "5 -1.173275 -0.202096  1.218411  0.611588\n"
     ]
    }
   ],
   "source": [
    "#生成缺失数据\n",
    "df=pd.DataFrame(np.random.randn(6,4),columns=['col1','col2','col3','col4'])\n",
    "df.iloc[1:2,1]=np.nan \n",
    "df.iloc[4,3]=np.nan\n",
    "print(df)"
   ]
  },
  {
   "cell_type": "code",
   "execution_count": 5,
   "metadata": {},
   "outputs": [
    {
     "name": "stdout",
     "output_type": "stream",
     "text": [
      "    col1   col2   col3   col4\n",
      "0  False  False  False  False\n",
      "1  False   True  False  False\n",
      "2  False  False  False  False\n",
      "3  False  False  False  False\n",
      "4  False  False  False   True\n",
      "5  False  False  False  False\n"
     ]
    }
   ],
   "source": [
    "#查看哪些缺失值缺失\n",
    "nan_all=df.isnull()\n",
    "print(nan_all)"
   ]
  },
  {
   "cell_type": "code",
   "execution_count": 6,
   "metadata": {},
   "outputs": [
    {
     "name": "stdout",
     "output_type": "stream",
     "text": [
      "    col1   col2   col3   col4\n",
      "0  False  False  False  False\n",
      "1  False   True  False  False\n",
      "2  False  False  False  False\n",
      "3  False  False  False  False\n",
      "4  False  False  False   True\n",
      "5  False  False  False  False\n"
     ]
    }
   ],
   "source": [
    "#查看哪些值缺失\n",
    "nan_all=df.isnull()\n",
    "print(nan_all)\n",
    "\n"
   ]
  },
  {
   "cell_type": "code",
   "execution_count": 7,
   "metadata": {},
   "outputs": [
    {
     "name": "stdout",
     "output_type": "stream",
     "text": [
      "    col1   col2   col3   col4\n",
      "0  False  False  False  False\n",
      "1  False   True  False  False\n",
      "2  False  False  False  False\n",
      "3  False  False  False  False\n",
      "4  False  False  False   True\n",
      "5  False  False  False  False\n"
     ]
    }
   ],
   "source": [
    "#查看哪些数值缺失\n",
    "nan_all=df.isnull()\n",
    "print(nan_all)"
   ]
  },
  {
   "cell_type": "code",
   "execution_count": 8,
   "metadata": {},
   "outputs": [
    {
     "name": "stdout",
     "output_type": "stream",
     "text": [
      "col1    False\n",
      "col2     True\n",
      "col3    False\n",
      "col4     True\n",
      "dtype: bool\n",
      "col1    False\n",
      "col2    False\n",
      "col3    False\n",
      "col4    False\n",
      "dtype: bool\n"
     ]
    }
   ],
   "source": [
    "#查看哪些列缺失\n",
    "nan_col1=df.isnull().any()\n",
    "nan_col2=df.isnull().all()\n",
    "print(nan_col1)\n",
    "print(nan_col2)"
   ]
  },
  {
   "cell_type": "code",
   "execution_count": 9,
   "metadata": {},
   "outputs": [
    {
     "name": "stdout",
     "output_type": "stream",
     "text": [
      "       col1      col2      col3      col4\n",
      "0  1.735633 -0.405727 -0.515646 -0.928232\n",
      "2  0.102754 -0.249986  0.397377 -1.463378\n",
      "3  0.010413  1.011308  0.878598  0.021060\n",
      "5 -1.173275 -0.202096  1.218411  0.611588\n"
     ]
    }
   ],
   "source": [
    "#丢弃缺失值\n",
    "df2=df.dropna()\n",
    "print(df2)"
   ]
  },
  {
   "cell_type": "code",
   "execution_count": 10,
   "metadata": {},
   "outputs": [
    {
     "name": "stdout",
     "output_type": "stream",
     "text": [
      "[[ 1.73563253 -0.40572736 -0.51564555 -0.92823248]\n",
      " [-0.15344351 -0.0616257   0.40955741 -0.14282245]\n",
      " [ 0.10275375 -0.24998594  0.39737652 -1.46337813]\n",
      " [ 0.01041307  1.01130835  0.87859802  0.02106034]\n",
      " [-0.300253   -0.46162757 -1.09632613 -0.38035698]\n",
      " [-1.17327528 -0.20209599  1.21841091  0.61158781]]\n"
     ]
    }
   ],
   "source": [
    "#使用sklearn将缺失值替换成特定值\n",
    "nan_model=Imputer(missing_values='NaN',strategy='mean',axis=0)\n",
    "nan_result=nan_model.fit_transform(df)\n",
    "print(nan_result)"
   ]
  },
  {
   "cell_type": "code",
   "execution_count": 11,
   "metadata": {},
   "outputs": [],
   "source": [
    "#使用pandas 将缺失值替换成特定值\n",
    "nan_result_pd1=df.fillna(method='backfill') \n",
    "nan_result_pd2=df.fillna(method='bfill',limit=1)\n",
    "nan_result_pd3=df.fillna(method='pad')\n",
    "nan_result_pd4=df.fillna(0)\n",
    "nan_result_pd5=df.fillna({'col2':1,'col4':1.2})\n",
    "nan_result_pd6=df.fillna(df.mean()['col2':'col4'])"
   ]
  },
  {
   "cell_type": "code",
   "execution_count": 18,
   "metadata": {},
   "outputs": [
    {
     "name": "stdout",
     "output_type": "stream",
     "text": [
      "       col1      col2      col3      col4\n",
      "0  1.735633 -0.405727 -0.515646 -0.928232\n",
      "1 -0.153444 -0.061626  0.409557 -0.142822\n",
      "2  0.102754 -0.249986  0.397377 -1.463378\n",
      "3  0.010413  1.011308  0.878598  0.021060\n",
      "4 -0.300253 -0.461628 -1.096326 -0.380357\n",
      "5 -1.173275 -0.202096  1.218411  0.611588\n"
     ]
    }
   ],
   "source": [
    "print(nan_result_pd6)"
   ]
  },
  {
   "cell_type": "code",
   "execution_count": null,
   "metadata": {},
   "outputs": [],
   "source": [
    "##异常值处理\n",
    "df=pd.DataFrame({'col1':[1,120,3,5,2,12,13]})"
   ]
  },
  {
   "cell_type": "code",
   "execution_count": null,
   "metadata": {},
   "outputs": [],
   "source": []
  },
  {
   "cell_type": "code",
   "execution_count": null,
   "metadata": {},
   "outputs": [],
   "source": []
  },
  {
   "cell_type": "code",
   "execution_count": null,
   "metadata": {},
   "outputs": [],
   "source": []
  },
  {
   "cell_type": "code",
   "execution_count": null,
   "metadata": {},
   "outputs": [],
   "source": []
  },
  {
   "cell_type": "code",
   "execution_count": null,
   "metadata": {},
   "outputs": [],
   "source": []
  },
  {
   "cell_type": "code",
   "execution_count": null,
   "metadata": {},
   "outputs": [],
   "source": []
  },
  {
   "cell_type": "code",
   "execution_count": null,
   "metadata": {},
   "outputs": [],
   "source": []
  },
  {
   "cell_type": "code",
   "execution_count": null,
   "metadata": {},
   "outputs": [],
   "source": []
  },
  {
   "cell_type": "code",
   "execution_count": null,
   "metadata": {},
   "outputs": [],
   "source": []
  },
  {
   "cell_type": "code",
   "execution_count": null,
   "metadata": {},
   "outputs": [],
   "source": []
  },
  {
   "cell_type": "code",
   "execution_count": null,
   "metadata": {},
   "outputs": [],
   "source": []
  },
  {
   "cell_type": "code",
   "execution_count": null,
   "metadata": {},
   "outputs": [],
   "source": []
  },
  {
   "cell_type": "code",
   "execution_count": null,
   "metadata": {},
   "outputs": [],
   "source": []
  },
  {
   "cell_type": "code",
   "execution_count": null,
   "metadata": {},
   "outputs": [],
   "source": []
  },
  {
   "cell_type": "code",
   "execution_count": null,
   "metadata": {},
   "outputs": [],
   "source": []
  },
  {
   "cell_type": "code",
   "execution_count": null,
   "metadata": {},
   "outputs": [],
   "source": []
  },
  {
   "cell_type": "code",
   "execution_count": null,
   "metadata": {},
   "outputs": [],
   "source": []
  },
  {
   "cell_type": "code",
   "execution_count": null,
   "metadata": {},
   "outputs": [],
   "source": []
  },
  {
   "cell_type": "code",
   "execution_count": null,
   "metadata": {},
   "outputs": [],
   "source": []
  },
  {
   "cell_type": "code",
   "execution_count": null,
   "metadata": {},
   "outputs": [],
   "source": []
  },
  {
   "cell_type": "code",
   "execution_count": null,
   "metadata": {},
   "outputs": [],
   "source": []
  },
  {
   "cell_type": "code",
   "execution_count": null,
   "metadata": {},
   "outputs": [],
   "source": []
  },
  {
   "cell_type": "code",
   "execution_count": null,
   "metadata": {},
   "outputs": [],
   "source": []
  },
  {
   "cell_type": "code",
   "execution_count": null,
   "metadata": {},
   "outputs": [],
   "source": []
  },
  {
   "cell_type": "code",
   "execution_count": null,
   "metadata": {},
   "outputs": [],
   "source": []
  },
  {
   "cell_type": "code",
   "execution_count": null,
   "metadata": {},
   "outputs": [],
   "source": []
  },
  {
   "cell_type": "code",
   "execution_count": null,
   "metadata": {},
   "outputs": [],
   "source": []
  },
  {
   "cell_type": "code",
   "execution_count": null,
   "metadata": {},
   "outputs": [],
   "source": []
  }
 ],
 "metadata": {
  "kernelspec": {
   "display_name": "Python [conda env:anaconda3]",
   "language": "python",
   "name": "conda-env-anaconda3-py"
  },
  "language_info": {
   "codemirror_mode": {
    "name": "ipython",
    "version": 3
   },
   "file_extension": ".py",
   "mimetype": "text/x-python",
   "name": "python",
   "nbconvert_exporter": "python",
   "pygments_lexer": "ipython3",
   "version": "3.6.5"
  }
 },
 "nbformat": 4,
 "nbformat_minor": 2
}
