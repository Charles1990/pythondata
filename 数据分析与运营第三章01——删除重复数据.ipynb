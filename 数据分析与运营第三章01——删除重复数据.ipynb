{
 "cells": [
  {
   "cell_type": "code",
   "execution_count": 2,
   "metadata": {},
   "outputs": [],
   "source": [
    "#3.1数据清洗：缺失值、异常值和重复值处理\n",
    "#缺失值\n",
    "import pandas as pd\n",
    "import numpy as np\n",
    "from sklearn.preprocessing import Imputer\n"
   ]
  },
  {
   "cell_type": "code",
   "execution_count": 3,
   "metadata": {},
   "outputs": [],
   "source": [
    "#生成缺失值\n",
    "\n",
    "df=pd.DataFrame(np.random.randn(6,4),columns=['coll','col2','col3','col4'])"
   ]
  },
  {
   "cell_type": "code",
   "execution_count": 4,
   "metadata": {},
   "outputs": [
    {
     "name": "stdout",
     "output_type": "stream",
     "text": [
      "       coll      col2      col3      col4\n",
      "0  0.405311  0.731973  0.475461 -0.357604\n",
      "1 -0.825520       NaN -0.218462 -0.324726\n",
      "2 -0.870500  2.601770 -1.885936 -0.223207\n",
      "3 -0.270674  1.422113  1.130565  0.032043\n",
      "4  0.260092  0.008154  0.452140       NaN\n",
      "5 -1.073805  0.941541 -0.457740  0.152289\n"
     ]
    }
   ],
   "source": [
    "#生成一份数据\n",
    "df.iloc[1:2,1]=np.nan\n",
    "df.iloc[4,3]=np.nan\n",
    "print(df)\n"
   ]
  },
  {
   "cell_type": "code",
   "execution_count": 5,
   "metadata": {},
   "outputs": [],
   "source": [
    "nan_all=df.isnull()"
   ]
  },
  {
   "cell_type": "code",
   "execution_count": 6,
   "metadata": {},
   "outputs": [
    {
     "name": "stdout",
     "output_type": "stream",
     "text": [
      "    coll   col2   col3   col4\n",
      "0  False  False  False  False\n",
      "1  False   True  False  False\n",
      "2  False  False  False  False\n",
      "3  False  False  False  False\n",
      "4  False  False  False   True\n",
      "5  False  False  False  False\n"
     ]
    }
   ],
   "source": [
    "print(nan_all)"
   ]
  },
  {
   "cell_type": "code",
   "execution_count": 7,
   "metadata": {},
   "outputs": [
    {
     "name": "stdout",
     "output_type": "stream",
     "text": [
      "<bound method DataFrame.any of     coll   col2   col3   col4\n",
      "0  False  False  False  False\n",
      "1  False   True  False  False\n",
      "2  False  False  False  False\n",
      "3  False  False  False  False\n",
      "4  False  False  False   True\n",
      "5  False  False  False  False>\n",
      "<bound method DataFrame.all of     coll   col2   col3   col4\n",
      "0  False  False  False  False\n",
      "1  False   True  False  False\n",
      "2  False  False  False  False\n",
      "3  False  False  False  False\n",
      "4  False  False  False   True\n",
      "5  False  False  False  False>\n"
     ]
    }
   ],
   "source": [
    "nan_col1=df.isnull().any #获得含有NA的列\n",
    "nan_col2=df.isnull().all #获得全部为NA的列\n",
    "print(nan_col1)\n",
    "print(nan_col2)"
   ]
  },
  {
   "cell_type": "code",
   "execution_count": 8,
   "metadata": {},
   "outputs": [
    {
     "name": "stdout",
     "output_type": "stream",
     "text": [
      "       coll      col2      col3      col4\n",
      "0  0.405311  0.731973  0.475461 -0.357604\n",
      "2 -0.870500  2.601770 -1.885936 -0.223207\n",
      "3 -0.270674  1.422113  1.130565  0.032043\n",
      "5 -1.073805  0.941541 -0.457740  0.152289\n"
     ]
    }
   ],
   "source": [
    "#丢弃缺失值\n",
    "df2=df.dropna()\n",
    "print(df2)\n"
   ]
  },
  {
   "cell_type": "code",
   "execution_count": 9,
   "metadata": {},
   "outputs": [
    {
     "name": "stdout",
     "output_type": "stream",
     "text": [
      "[[ 0.40531142  0.73197257  0.47546067 -0.35760442]\n",
      " [-0.82551999  1.14111003 -0.21846198 -0.32472608]\n",
      " [-0.87050047  2.60177001 -1.88593599 -0.22320699]\n",
      " [-0.27067405  1.42211325  1.13056472  0.03204288]\n",
      " [ 0.26009214  0.0081537   0.45214007 -0.14424105]\n",
      " [-1.0738053   0.94154061 -0.45773957  0.15228936]]\n"
     ]
    }
   ],
   "source": [
    "#使用sklearn 将缺失值替换为特定值\n",
    "nan_model=Imputer(missing_values='NaN',strategy='mean',axis=0)\n",
    "#建立替换规则：将值为NaN的缺失值均已均值替换\n",
    "nan_result=nan_model.fit_transform(df)#应用模型规则\n",
    "print(nan_result)"
   ]
  },
  {
   "cell_type": "code",
   "execution_count": 10,
   "metadata": {},
   "outputs": [],
   "source": [
    "#使用pandas 将缺失值替换成特定值\n",
    "nan_result_pd1=df.fillna(method='backfill')#用后面的值替换失值\n",
    "nan_result_pd2=df.fillna(method='bfill',limit=1) #用后面的值代替缺失值，限制每列只能替代一个缺失值\n",
    "nan_result_pd3=df.fillna(method='pad')\n",
    "nan_result_pd4=df.fillna(0)\n",
    "nan_result_pd5=df.fillna({'col2':1.1,'col4':1.2})\n",
    "nan_result_pd6=df.fillna(df.mean()['col2':'col4'])#用平均数代替，选择各自列的均值替换缺失值"
   ]
  },
  {
   "cell_type": "code",
   "execution_count": 16,
   "metadata": {},
   "outputs": [
    {
     "name": "stdout",
     "output_type": "stream",
     "text": [
      "       coll      col2      col3      col4\n",
      "0  0.405311  0.731973  0.475461 -0.357604\n",
      "1 -0.825520  1.141110 -0.218462 -0.324726\n",
      "2 -0.870500  2.601770 -1.885936 -0.223207\n",
      "3 -0.270674  1.422113  1.130565  0.032043\n",
      "4  0.260092  0.008154  0.452140 -0.144241\n",
      "5 -1.073805  0.941541 -0.457740  0.152289\n"
     ]
    }
   ],
   "source": [
    "print(nan_result_pd6)"
   ]
  },
  {
   "cell_type": "code",
   "execution_count": 12,
   "metadata": {},
   "outputs": [
    {
     "name": "stdout",
     "output_type": "stream",
     "text": [
      "       coll      col2      col3      col4\n",
      "0  0.405311  0.731973  0.475461 -0.357604\n",
      "1 -0.825520  2.601770 -0.218462 -0.324726\n",
      "2 -0.870500  2.601770 -1.885936 -0.223207\n",
      "3 -0.270674  1.422113  1.130565  0.032043\n",
      "4  0.260092  0.008154  0.452140  0.152289\n",
      "5 -1.073805  0.941541 -0.457740  0.152289\n"
     ]
    }
   ],
   "source": [
    "print(nan_result_pd2)"
   ]
  },
  {
   "cell_type": "code",
   "execution_count": 17,
   "metadata": {},
   "outputs": [],
   "source": [
    "##异常值处理\n",
    "import pandas as pd"
   ]
  },
  {
   "cell_type": "code",
   "execution_count": 18,
   "metadata": {},
   "outputs": [
    {
     "name": "stdout",
     "output_type": "stream",
     "text": [
      "   col1  col2\n",
      "0     1    12\n",
      "1   120    17\n",
      "2     3    31\n",
      "3     5    53\n",
      "4     2    52\n",
      "5    12    32\n",
      "6    13    43\n"
     ]
    }
   ],
   "source": [
    "df=pd.DataFrame({'col1':[1,120,3,5,2,12,13],\n",
    "                 'col2':[12,17,31,53,52,32,43]})\n",
    "print(df)"
   ]
  },
  {
   "cell_type": "code",
   "execution_count": 20,
   "metadata": {},
   "outputs": [
    {
     "name": "stdout",
     "output_type": "stream",
     "text": [
      "    col1   col2\n",
      "0  False  False\n",
      "1   True  False\n",
      "2  False  False\n",
      "3  False  False\n",
      "4  False  False\n",
      "5  False  False\n",
      "6  False  False\n"
     ]
    }
   ],
   "source": [
    "#通过Z-Score方法判断异常值\n",
    "df_zscore=df.copy() #复制一个用来存储Z-score得分的数据框\n",
    "cols=df.columns #获得数据框的列名\n",
    "for col in cols:\n",
    "    df_col=df[col]\n",
    "    z_score=(df_col-df_col.mean())/df_col.std()#计算每列的Z-score得分\n",
    "    df_zscore[col]=z_score.abs()>2.2 #判断Z-score得分是否大于2.2，如果是则是True，否则为False\n",
    "\n",
    "print(df_zscore)  #输出"
   ]
  },
  {
   "cell_type": "code",
   "execution_count": 23,
   "metadata": {},
   "outputs": [
    {
     "data": {
      "text/html": [
       "<div>\n",
       "<style scoped>\n",
       "    .dataframe tbody tr th:only-of-type {\n",
       "        vertical-align: middle;\n",
       "    }\n",
       "\n",
       "    .dataframe tbody tr th {\n",
       "        vertical-align: top;\n",
       "    }\n",
       "\n",
       "    .dataframe thead th {\n",
       "        text-align: right;\n",
       "    }\n",
       "</style>\n",
       "<table border=\"1\" class=\"dataframe\">\n",
       "  <thead>\n",
       "    <tr style=\"text-align: right;\">\n",
       "      <th></th>\n",
       "      <th>col1</th>\n",
       "      <th>col2</th>\n",
       "    </tr>\n",
       "  </thead>\n",
       "  <tbody>\n",
       "    <tr>\n",
       "      <th>count</th>\n",
       "      <td>7.000000</td>\n",
       "      <td>7.000000</td>\n",
       "    </tr>\n",
       "    <tr>\n",
       "      <th>mean</th>\n",
       "      <td>22.285714</td>\n",
       "      <td>34.285714</td>\n",
       "    </tr>\n",
       "    <tr>\n",
       "      <th>std</th>\n",
       "      <td>43.350180</td>\n",
       "      <td>16.080156</td>\n",
       "    </tr>\n",
       "    <tr>\n",
       "      <th>min</th>\n",
       "      <td>1.000000</td>\n",
       "      <td>12.000000</td>\n",
       "    </tr>\n",
       "    <tr>\n",
       "      <th>25%</th>\n",
       "      <td>2.500000</td>\n",
       "      <td>24.000000</td>\n",
       "    </tr>\n",
       "    <tr>\n",
       "      <th>50%</th>\n",
       "      <td>5.000000</td>\n",
       "      <td>32.000000</td>\n",
       "    </tr>\n",
       "    <tr>\n",
       "      <th>75%</th>\n",
       "      <td>12.500000</td>\n",
       "      <td>47.500000</td>\n",
       "    </tr>\n",
       "    <tr>\n",
       "      <th>max</th>\n",
       "      <td>120.000000</td>\n",
       "      <td>53.000000</td>\n",
       "    </tr>\n",
       "  </tbody>\n",
       "</table>\n",
       "</div>"
      ],
      "text/plain": [
       "             col1       col2\n",
       "count    7.000000   7.000000\n",
       "mean    22.285714  34.285714\n",
       "std     43.350180  16.080156\n",
       "min      1.000000  12.000000\n",
       "25%      2.500000  24.000000\n",
       "50%      5.000000  32.000000\n",
       "75%     12.500000  47.500000\n",
       "max    120.000000  53.000000"
      ]
     },
     "execution_count": 23,
     "metadata": {},
     "output_type": "execute_result"
    }
   ],
   "source": [
    "df.describe()"
   ]
  },
  {
   "cell_type": "code",
   "execution_count": 24,
   "metadata": {},
   "outputs": [
    {
     "name": "stdout",
     "output_type": "stream",
     "text": [
      "  col1  col2\n",
      "0    a     3\n",
      "1    b     2\n",
      "2    a     3\n",
      "3    c     2\n"
     ]
    }
   ],
   "source": [
    "##重复值处理\n",
    "data1 = ['a', 3]\n",
    "data2 = ['b', 2]\n",
    "data3 = ['a', 3]\n",
    "data4 = ['c', 2]\n",
    "\n",
    "df=pd.DataFrame([data1,data2,data3,data4],columns=['col1','col2'])\n",
    "print(df)"
   ]
  },
  {
   "cell_type": "code",
   "execution_count": 25,
   "metadata": {},
   "outputs": [
    {
     "name": "stdout",
     "output_type": "stream",
     "text": [
      "0    False\n",
      "1    False\n",
      "2     True\n",
      "3    False\n",
      "dtype: bool\n"
     ]
    }
   ],
   "source": [
    "#判断重复值\n",
    "isDuplicated=df.duplicated() #判断重复数据记录\n",
    "print(isDuplicated)"
   ]
  },
  {
   "cell_type": "code",
   "execution_count": 26,
   "metadata": {},
   "outputs": [
    {
     "name": "stdout",
     "output_type": "stream",
     "text": [
      "  col1  col2\n",
      "0    a     3\n",
      "1    b     2\n",
      "3    c     2\n"
     ]
    }
   ],
   "source": [
    "#删除重复值\n",
    "new_df1=df.drop_duplicates() #删除数据记录中所有列值相同的记录\n",
    "new_df2=df.drop_duplicates(['col1']) #删除数据记录中col1值相同的记录\n",
    "new_df3=df.drop_duplicates(['col2']) \n",
    "new_df4=df.drop_duplicates(['col1','col2']) #删除数据记录中指定列（col1/col2）值相同的记录\n",
    "\n",
    "print(new_df1)\n"
   ]
  },
  {
   "cell_type": "code",
   "execution_count": 29,
   "metadata": {},
   "outputs": [
    {
     "name": "stdout",
     "output_type": "stream",
     "text": [
      "  col1  col2\n",
      "0    a     3\n",
      "1    b     2\n",
      "3    c     2\n"
     ]
    }
   ],
   "source": [
    "print(new_df4)"
   ]
  },
  {
   "cell_type": "code",
   "execution_count": null,
   "metadata": {},
   "outputs": [],
   "source": []
  },
  {
   "cell_type": "code",
   "execution_count": null,
   "metadata": {},
   "outputs": [],
   "source": []
  },
  {
   "cell_type": "code",
   "execution_count": null,
   "metadata": {},
   "outputs": [],
   "source": []
  },
  {
   "cell_type": "code",
   "execution_count": null,
   "metadata": {},
   "outputs": [],
   "source": []
  },
  {
   "cell_type": "code",
   "execution_count": null,
   "metadata": {},
   "outputs": [],
   "source": []
  },
  {
   "cell_type": "code",
   "execution_count": null,
   "metadata": {},
   "outputs": [],
   "source": []
  }
 ],
 "metadata": {
  "kernelspec": {
   "display_name": "Python [conda env:anaconda3]",
   "language": "python",
   "name": "conda-env-anaconda3-py"
  },
  "language_info": {
   "codemirror_mode": {
    "name": "ipython",
    "version": 3
   },
   "file_extension": ".py",
   "mimetype": "text/x-python",
   "name": "python",
   "nbconvert_exporter": "python",
   "pygments_lexer": "ipython3",
   "version": "3.6.5"
  }
 },
 "nbformat": 4,
 "nbformat_minor": 2
}
