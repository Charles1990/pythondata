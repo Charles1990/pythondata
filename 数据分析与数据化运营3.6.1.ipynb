{
 "cells": [
  {
   "cell_type": "code",
   "execution_count": 1,
   "metadata": {},
   "outputs": [],
   "source": [
    "#数据化运营要抽样还是全量数据\n",
    "import random\n",
    "import numpy as np"
   ]
  },
  {
   "cell_type": "code",
   "execution_count": 10,
   "metadata": {},
   "outputs": [
    {
     "name": "stdout",
     "output_type": "stream",
     "text": [
      "{0.0: 200, 1.0: 200}\n"
     ]
    }
   ],
   "source": [
    "data2 = np.loadtxt('/Users/yezhibin/Downloads/书/数据分析书/python_book/chapter3/data2.txt')  # 导入普通数据文件\n",
    "each_sample_count=200 #定义每个分层的抽样数量\n",
    "label_data_unique=np.unique(data2[:,-1]) #定义分层值域\n",
    "sample_list=[]\n",
    "sample_data=[]\n",
    "sample_dict={}\n",
    "for label_data in label_data_unique: #遍历每个分层标签\n",
    "    for data_tmp in data2:\n",
    "        if data_tmp[-1] == label_data:\n",
    "            sample_list.append(data_tmp)#将数据加入到分层数据中\n",
    "    each_sample_data=random.sample(sample_list,each_sample_count) #对每层数据都随机抽样\n",
    "    sample_data.extend(each_sample_data) #将抽样数据追加到总体样本集\n",
    "    sample_dict[label_data]=len(each_sample_data) #样本集统计结果\n",
    "print(sample_dict)"
   ]
  },
  {
   "cell_type": "code",
   "execution_count": null,
   "metadata": {},
   "outputs": [],
   "source": [
    "#整群抽样\n"
   ]
  },
  {
   "cell_type": "code",
   "execution_count": null,
   "metadata": {},
   "outputs": [],
   "source": []
  },
  {
   "cell_type": "code",
   "execution_count": null,
   "metadata": {},
   "outputs": [],
   "source": []
  },
  {
   "cell_type": "code",
   "execution_count": null,
   "metadata": {},
   "outputs": [],
   "source": []
  },
  {
   "cell_type": "code",
   "execution_count": null,
   "metadata": {},
   "outputs": [],
   "source": []
  },
  {
   "cell_type": "code",
   "execution_count": null,
   "metadata": {},
   "outputs": [],
   "source": []
  },
  {
   "cell_type": "code",
   "execution_count": null,
   "metadata": {},
   "outputs": [],
   "source": []
  }
 ],
 "metadata": {
  "kernelspec": {
   "display_name": "Python [conda env:py3]",
   "language": "python",
   "name": "conda-env-py3-py"
  },
  "language_info": {
   "codemirror_mode": {
    "name": "ipython",
    "version": 3
   },
   "file_extension": ".py",
   "mimetype": "text/x-python",
   "name": "python",
   "nbconvert_exporter": "python",
   "pygments_lexer": "ipython3",
   "version": "3.6.2"
  }
 },
 "nbformat": 4,
 "nbformat_minor": 2
}
