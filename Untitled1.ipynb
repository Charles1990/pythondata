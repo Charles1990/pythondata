{
 "cells": [
  {
   "cell_type": "code",
   "execution_count": 73,
   "metadata": {},
   "outputs": [],
   "source": [
    "import time\n",
    "import numpy as np\n",
    "import pandas as pd"
   ]
  },
  {
   "cell_type": "code",
   "execution_count": 74,
   "metadata": {},
   "outputs": [],
   "source": [
    "import matplotlib.pyplot as plt"
   ]
  },
  {
   "cell_type": "code",
   "execution_count": 75,
   "metadata": {},
   "outputs": [],
   "source": [
    "from datetime import datetime\n",
    "%matplotlib inline \n",
    "plt.style.use('ggplot')"
   ]
  },
  {
   "cell_type": "code",
   "execution_count": 76,
   "metadata": {},
   "outputs": [],
   "source": [
    "dtypes = {'uid','type','createdd','regtime','ls','countt','balance','add_up','money','remain'}\n",
    "raw_data=pd.read_csv('/Users/qingmo/Desktop/8basemonth.csv',index_col='uid')"
   ]
  },
  {
   "cell_type": "code",
   "execution_count": 77,
   "metadata": {},
   "outputs": [
    {
     "name": "stdout",
     "output_type": "stream",
     "text": [
      "          type  createdd   regtime         ls  countt  balance  add_up  money  \\\n",
      "uid                                                                             \n",
      "19130099  task  2018/8/1  2018/8/1  2018/8/29      67      1.7    73.2    1.0   \n",
      "19130101  task  2018/8/1  2018/8/1   2018/8/3      19      1.5    21.5    1.0   \n",
      "19130102  task  2018/8/2  2018/8/1   2018/8/5      46      7.5    47.5    1.0   \n",
      "19130103  task  2018/8/2  2018/8/1  2018/9/11     138     44.5   154.5    1.0   \n",
      "\n",
      "          remain  \n",
      "uid               \n",
      "19130099     2.5  \n",
      "19130101     3.5  \n",
      "19130102     2.0  \n",
      "19130103     2.0  \n"
     ]
    }
   ],
   "source": [
    "print(raw_data.head(4))"
   ]
  },
  {
   "cell_type": "code",
   "execution_count": 78,
   "metadata": {},
   "outputs": [
    {
     "name": "stdout",
     "output_type": "stream",
     "text": [
      "             countt       balance        add_up         money        remain\n",
      "count  77679.000000  77679.000000  77679.000000  77679.000000  77679.000000\n",
      "mean      33.605633      7.691706     40.021125      1.001671      2.314138\n",
      "std       29.193579     11.817513     35.219661      0.018205      2.940345\n",
      "min        1.000000    -16.300000      2.000000      1.000000      2.000000\n",
      "25%       11.000000      1.700000     13.525000      1.000000      2.000000\n",
      "50%       29.000000      4.000000     33.000000      1.000000      2.500000\n",
      "75%       47.000000      8.000000     53.700000      1.000000      2.500000\n",
      "max      305.000000    478.000000   1178.000000      1.200000    762.500000\n"
     ]
    }
   ],
   "source": [
    "print(raw_data.describe())"
   ]
  },
  {
   "cell_type": "markdown",
   "metadata": {},
   "source": [
    "用户的task8月份的完成情况，最高的用户做了305个，134159的用户平均每个用户做了33.6个task任务。中位数在29.1，大致可以说明每个用户一天做了1个task的任务。在看用户账户余额，最高的有762.5在当前未提现，中位数在2.9."
   ]
  },
  {
   "cell_type": "code",
   "execution_count": 57,
   "metadata": {},
   "outputs": [
    {
     "name": "stdout",
     "output_type": "stream",
     "text": [
      "<class 'pandas.core.frame.DataFrame'>\n",
      "Int64Index: 77679 entries, 19130099 to 19229552\n",
      "Data columns (total 9 columns):\n",
      "type        77679 non-null object\n",
      "createdd    77679 non-null object\n",
      "regtime     77679 non-null object\n",
      "ls          77679 non-null object\n",
      "countt      77679 non-null int64\n",
      "balance     77679 non-null float64\n",
      "add_up      77679 non-null float64\n",
      "money       77679 non-null float64\n",
      "remain      77679 non-null float64\n",
      "dtypes: float64(4), int64(1), object(4)\n",
      "memory usage: 5.9+ MB\n"
     ]
    }
   ],
   "source": [
    "raw_data.info()"
   ]
  },
  {
   "cell_type": "markdown",
   "metadata": {},
   "source": [
    "目前提取的数据无缺失值，比较完整，不需要进行数据的填充。"
   ]
  },
  {
   "cell_type": "code",
   "execution_count": 58,
   "metadata": {},
   "outputs": [],
   "source": [
    "df=raw_data"
   ]
  },
  {
   "cell_type": "code",
   "execution_count": 59,
   "metadata": {},
   "outputs": [],
   "source": [
    "df['createdd']=pd.to_datetime(df['createdd'],format='%Y-%m-%d')"
   ]
  },
  {
   "cell_type": "code",
   "execution_count": 60,
   "metadata": {},
   "outputs": [],
   "source": [
    "df['regtime']=pd.to_datetime(df['regtime'],format='%Y-%m-%d')"
   ]
  },
  {
   "cell_type": "code",
   "execution_count": 61,
   "metadata": {},
   "outputs": [
    {
     "data": {
      "text/html": [
       "<div>\n",
       "<style scoped>\n",
       "    .dataframe tbody tr th:only-of-type {\n",
       "        vertical-align: middle;\n",
       "    }\n",
       "\n",
       "    .dataframe tbody tr th {\n",
       "        vertical-align: top;\n",
       "    }\n",
       "\n",
       "    .dataframe thead th {\n",
       "        text-align: right;\n",
       "    }\n",
       "</style>\n",
       "<table border=\"1\" class=\"dataframe\">\n",
       "  <thead>\n",
       "    <tr style=\"text-align: right;\">\n",
       "      <th></th>\n",
       "      <th>type</th>\n",
       "      <th>createdd</th>\n",
       "      <th>regtime</th>\n",
       "      <th>ls</th>\n",
       "      <th>countt</th>\n",
       "      <th>balance</th>\n",
       "      <th>add_up</th>\n",
       "      <th>money</th>\n",
       "      <th>remain</th>\n",
       "    </tr>\n",
       "    <tr>\n",
       "      <th>uid</th>\n",
       "      <th></th>\n",
       "      <th></th>\n",
       "      <th></th>\n",
       "      <th></th>\n",
       "      <th></th>\n",
       "      <th></th>\n",
       "      <th></th>\n",
       "      <th></th>\n",
       "      <th></th>\n",
       "    </tr>\n",
       "  </thead>\n",
       "  <tbody>\n",
       "    <tr>\n",
       "      <th>19130099</th>\n",
       "      <td>task</td>\n",
       "      <td>2018-08-01</td>\n",
       "      <td>2018-08-01</td>\n",
       "      <td>2018/8/29</td>\n",
       "      <td>67</td>\n",
       "      <td>1.7</td>\n",
       "      <td>73.2</td>\n",
       "      <td>1.0</td>\n",
       "      <td>2.5</td>\n",
       "    </tr>\n",
       "    <tr>\n",
       "      <th>19130101</th>\n",
       "      <td>task</td>\n",
       "      <td>2018-08-01</td>\n",
       "      <td>2018-08-01</td>\n",
       "      <td>2018/8/3</td>\n",
       "      <td>19</td>\n",
       "      <td>1.5</td>\n",
       "      <td>21.5</td>\n",
       "      <td>1.0</td>\n",
       "      <td>3.5</td>\n",
       "    </tr>\n",
       "    <tr>\n",
       "      <th>19130102</th>\n",
       "      <td>task</td>\n",
       "      <td>2018-08-02</td>\n",
       "      <td>2018-08-01</td>\n",
       "      <td>2018/8/5</td>\n",
       "      <td>46</td>\n",
       "      <td>7.5</td>\n",
       "      <td>47.5</td>\n",
       "      <td>1.0</td>\n",
       "      <td>2.0</td>\n",
       "    </tr>\n",
       "    <tr>\n",
       "      <th>19130103</th>\n",
       "      <td>task</td>\n",
       "      <td>2018-08-02</td>\n",
       "      <td>2018-08-01</td>\n",
       "      <td>2018/9/11</td>\n",
       "      <td>138</td>\n",
       "      <td>44.5</td>\n",
       "      <td>154.5</td>\n",
       "      <td>1.0</td>\n",
       "      <td>2.0</td>\n",
       "    </tr>\n",
       "  </tbody>\n",
       "</table>\n",
       "</div>"
      ],
      "text/plain": [
       "          type   createdd    regtime         ls  countt  balance  add_up  \\\n",
       "uid                                                                        \n",
       "19130099  task 2018-08-01 2018-08-01  2018/8/29      67      1.7    73.2   \n",
       "19130101  task 2018-08-01 2018-08-01   2018/8/3      19      1.5    21.5   \n",
       "19130102  task 2018-08-02 2018-08-01   2018/8/5      46      7.5    47.5   \n",
       "19130103  task 2018-08-02 2018-08-01  2018/9/11     138     44.5   154.5   \n",
       "\n",
       "          money  remain  \n",
       "uid                      \n",
       "19130099    1.0     2.5  \n",
       "19130101    1.0     3.5  \n",
       "19130102    1.0     2.0  \n",
       "19130103    1.0     2.0  "
      ]
     },
     "execution_count": 61,
     "metadata": {},
     "output_type": "execute_result"
    }
   ],
   "source": [
    "df.head(4)"
   ]
  },
  {
   "cell_type": "code",
   "execution_count": 62,
   "metadata": {},
   "outputs": [],
   "source": [
    "df['ls']=pd.to_datetime(df['ls'],format='%Y-%m-%d')"
   ]
  },
  {
   "cell_type": "code",
   "execution_count": 63,
   "metadata": {},
   "outputs": [
    {
     "data": {
      "text/html": [
       "<div>\n",
       "<style scoped>\n",
       "    .dataframe tbody tr th:only-of-type {\n",
       "        vertical-align: middle;\n",
       "    }\n",
       "\n",
       "    .dataframe tbody tr th {\n",
       "        vertical-align: top;\n",
       "    }\n",
       "\n",
       "    .dataframe thead th {\n",
       "        text-align: right;\n",
       "    }\n",
       "</style>\n",
       "<table border=\"1\" class=\"dataframe\">\n",
       "  <thead>\n",
       "    <tr style=\"text-align: right;\">\n",
       "      <th></th>\n",
       "      <th>type</th>\n",
       "      <th>createdd</th>\n",
       "      <th>regtime</th>\n",
       "      <th>ls</th>\n",
       "      <th>countt</th>\n",
       "      <th>balance</th>\n",
       "      <th>add_up</th>\n",
       "      <th>money</th>\n",
       "      <th>remain</th>\n",
       "    </tr>\n",
       "    <tr>\n",
       "      <th>uid</th>\n",
       "      <th></th>\n",
       "      <th></th>\n",
       "      <th></th>\n",
       "      <th></th>\n",
       "      <th></th>\n",
       "      <th></th>\n",
       "      <th></th>\n",
       "      <th></th>\n",
       "      <th></th>\n",
       "    </tr>\n",
       "  </thead>\n",
       "  <tbody>\n",
       "    <tr>\n",
       "      <th>19130099</th>\n",
       "      <td>task</td>\n",
       "      <td>2018-08-01</td>\n",
       "      <td>2018-08-01</td>\n",
       "      <td>2018-08-29</td>\n",
       "      <td>67</td>\n",
       "      <td>1.7</td>\n",
       "      <td>73.2</td>\n",
       "      <td>1.0</td>\n",
       "      <td>2.5</td>\n",
       "    </tr>\n",
       "    <tr>\n",
       "      <th>19130101</th>\n",
       "      <td>task</td>\n",
       "      <td>2018-08-01</td>\n",
       "      <td>2018-08-01</td>\n",
       "      <td>2018-08-03</td>\n",
       "      <td>19</td>\n",
       "      <td>1.5</td>\n",
       "      <td>21.5</td>\n",
       "      <td>1.0</td>\n",
       "      <td>3.5</td>\n",
       "    </tr>\n",
       "    <tr>\n",
       "      <th>19130102</th>\n",
       "      <td>task</td>\n",
       "      <td>2018-08-02</td>\n",
       "      <td>2018-08-01</td>\n",
       "      <td>2018-08-05</td>\n",
       "      <td>46</td>\n",
       "      <td>7.5</td>\n",
       "      <td>47.5</td>\n",
       "      <td>1.0</td>\n",
       "      <td>2.0</td>\n",
       "    </tr>\n",
       "    <tr>\n",
       "      <th>19130103</th>\n",
       "      <td>task</td>\n",
       "      <td>2018-08-02</td>\n",
       "      <td>2018-08-01</td>\n",
       "      <td>2018-09-11</td>\n",
       "      <td>138</td>\n",
       "      <td>44.5</td>\n",
       "      <td>154.5</td>\n",
       "      <td>1.0</td>\n",
       "      <td>2.0</td>\n",
       "    </tr>\n",
       "  </tbody>\n",
       "</table>\n",
       "</div>"
      ],
      "text/plain": [
       "          type   createdd    regtime         ls  countt  balance  add_up  \\\n",
       "uid                                                                        \n",
       "19130099  task 2018-08-01 2018-08-01 2018-08-29      67      1.7    73.2   \n",
       "19130101  task 2018-08-01 2018-08-01 2018-08-03      19      1.5    21.5   \n",
       "19130102  task 2018-08-02 2018-08-01 2018-08-05      46      7.5    47.5   \n",
       "19130103  task 2018-08-02 2018-08-01 2018-09-11     138     44.5   154.5   \n",
       "\n",
       "          money  remain  \n",
       "uid                      \n",
       "19130099    1.0     2.5  \n",
       "19130101    1.0     3.5  \n",
       "19130102    1.0     2.0  \n",
       "19130103    1.0     2.0  "
      ]
     },
     "execution_count": 63,
     "metadata": {},
     "output_type": "execute_result"
    }
   ],
   "source": [
    "df.head(4)"
   ]
  },
  {
   "cell_type": "code",
   "execution_count": 64,
   "metadata": {},
   "outputs": [
    {
     "name": "stdout",
     "output_type": "stream",
     "text": [
      "<class 'pandas.core.frame.DataFrame'>\n",
      "Int64Index: 77679 entries, 19130099 to 19229552\n",
      "Data columns (total 9 columns):\n",
      "type        77679 non-null object\n",
      "createdd    77679 non-null datetime64[ns]\n",
      "regtime     77679 non-null datetime64[ns]\n",
      "ls          77679 non-null datetime64[ns]\n",
      "countt      77679 non-null int64\n",
      "balance     77679 non-null float64\n",
      "add_up      77679 non-null float64\n",
      "money       77679 non-null float64\n",
      "remain      77679 non-null float64\n",
      "dtypes: datetime64[ns](3), float64(4), int64(1), object(1)\n",
      "memory usage: 5.9+ MB\n"
     ]
    }
   ],
   "source": [
    "df.info()"
   ]
  },
  {
   "cell_type": "code",
   "execution_count": 65,
   "metadata": {},
   "outputs": [],
   "source": [
    "recency_value = df['createdd'].groupby(df.index).max()  # 计算原始最近一次订单时间\n",
    "monetary_value = df['money'].groupby(df.index).sum()  # 计算原始订单总金额"
   ]
  },
  {
   "cell_type": "code",
   "execution_count": 66,
   "metadata": {},
   "outputs": [],
   "source": [
    "deadline_date = pd.datetime(2018, 9, 1)  # 指定一个时间节点，用于计算其他时间与该时间的距离\n",
    "r_interval = (deadline_date - recency_value).dt.days  # 计算R间隔\n",
    "r_score = pd.cut(r_interval, 5, labels=[5, 4, 3, 2, 1])  # 计算R得分\n",
    "m_score = pd.cut(monetary_value, 5, labels=[1, 2, 3, 4, 5])  # 计算M得分\n"
   ]
  },
  {
   "cell_type": "code",
   "execution_count": 72,
   "metadata": {},
   "outputs": [
    {
     "name": "stdout",
     "output_type": "stream",
     "text": [
      "RFM Score Overview:\n",
      "          r_score  m_score\n",
      "uid                       \n",
      "19130099        1        1\n",
      "19130101        1        1\n",
      "19130102        1        1\n",
      "19130103        1        1\n",
      "------------------------------------------------------------\n"
     ]
    }
   ],
   "source": [
    "rfm_list = [r_score, m_score]  # 将r、f、m三个维度组成列表\n",
    "rfm_cols = ['r_score', 'm_score']  # 设置r、f、m三个维度列名\n",
    "rfm_pd = pd.DataFrame(np.array(rfm_list).transpose(), dtype=np.int32, columns=rfm_cols,\n",
    "                      index=df.index)  # 建立r、f、m数据框\n",
    "print ('RFM Score Overview:')\n",
    "print (rfm_pd.head(4))\n",
    "print ('-' * 60)"
   ]
  },
  {
   "cell_type": "code",
   "execution_count": null,
   "metadata": {},
   "outputs": [],
   "source": [
    "# 计算RFM总得分\n",
    "# 方法一：加权得分\n",
    "rfm_pd['rfm_wscore'] = rfm_pd['r_score'] * 0.6 + rfm_pd['f_score'] * 0.3 + rfm_pd['m_score'] * 0.1\n",
    "# 方法二：RFM组合\n",
    "rfm_pd_tmp = rfm_pd.copy()\n",
    "rfm_pd_tmp['r_score'] = rfm_pd_tmp['r_score'].astype('str')\n",
    "rfm_pd_tmp['f_score'] = rfm_pd_tmp['f_score'].astype('str')\n",
    "rfm_pd_tmp['m_score'] = rfm_pd_tmp['m_score'].astype('str')\n",
    "rfm_pd['rfm_comb'] = rfm_pd_tmp['r_score'].str.cat(rfm_pd_tmp['f_score']).str.cat(rfm_pd_tmp['m_score'])"
   ]
  },
  {
   "cell_type": "code",
   "execution_count": null,
   "metadata": {},
   "outputs": [],
   "source": []
  },
  {
   "cell_type": "code",
   "execution_count": null,
   "metadata": {},
   "outputs": [],
   "source": []
  }
 ],
 "metadata": {
  "kernelspec": {
   "display_name": "Python [conda env:anaconda3]",
   "language": "python",
   "name": "conda-env-anaconda3-py"
  },
  "language_info": {
   "codemirror_mode": {
    "name": "ipython",
    "version": 3
   },
   "file_extension": ".py",
   "mimetype": "text/x-python",
   "name": "python",
   "nbconvert_exporter": "python",
   "pygments_lexer": "ipython3",
   "version": "3.6.5"
  }
 },
 "nbformat": 4,
 "nbformat_minor": 2
}
