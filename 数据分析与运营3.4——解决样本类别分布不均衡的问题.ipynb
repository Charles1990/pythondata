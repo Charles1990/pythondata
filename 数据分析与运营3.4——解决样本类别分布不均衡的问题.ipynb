{
 "cells": [
  {
   "cell_type": "code",
   "execution_count": 7,
   "metadata": {},
   "outputs": [],
   "source": [
    "import pandas as pd\n",
    "from imblearn.over_sampling import SMOTE #过抽样处理库SMOTE\n",
    "from imblearn.under_sampling import RandomUnderSampler #欠抽样处理库\n",
    "from sklearn.svm import SVC #SVM中的分类算法SVC\n",
    "from imblearn.ensemble import EasyEnsemble #简单集成方法EasyEnsemble\n"
   ]
  },
  {
   "cell_type": "code",
   "execution_count": 8,
   "metadata": {},
   "outputs": [
    {
     "name": "stdout",
     "output_type": "stream",
     "text": [
      "       col1  col2  col3  col4  col5\n",
      "label                              \n",
      "0.0     942   942   942   942   942\n",
      "1.0      58    58    58    58    58\n"
     ]
    }
   ],
   "source": [
    "#导入数据\n",
    "df=pd.read_table('/Users/yezhibin/Downloads/书/数据分析书/python_book/chapter3/data2.txt',\n",
    "                sep=' ',names=['col1','col2','col3','col4','col5','label'])#读取数据文件\n",
    "x=df.iloc[:,:-1] #切片，得到输入X\n",
    "y=df.iloc[:,-1] #切片，得到标签y\n",
    "groupby_data_orginal=df.groupby('label').count() #对label做分类汇总\n",
    "print(groupby_data_orginal) #打印输出原始数据集样本分类分布"
   ]
  },
  {
   "cell_type": "code",
   "execution_count": 10,
   "metadata": {},
   "outputs": [
    {
     "name": "stdout",
     "output_type": "stream",
     "text": [
      "       col1  col2  col3  col4  col5\n",
      "label                              \n",
      "0.0     942   942   942   942   942\n",
      "1.0     942   942   942   942   942\n"
     ]
    }
   ],
   "source": [
    "#使用SMOTE方法进行抽样处理\n",
    "model_smote=SMOTE() #建立SMOTE模型对象\n",
    "x_smote_resampled,y_smote_resampled=model_smote.fit_sample(x,y) #输入数据并做过抽样处理\n",
    "x_smote_resampled=pd.DataFrame(x_smote_resampled,columns=['col1','col2','col3','col4','col5']) #将数据转换为数据框并命名列名\n",
    "y_smote_resampled=pd.DataFrame(y_smote_resampled,columns=['label']) #将数据转换为数据框并命名列名\n",
    "smote_resampled=pd.concat([x_smote_resampled,y_smote_resampled],axis=1) #按列合并数据框\n",
    "groupby_data_smote=smote_resampled.groupby('label').count() #对label做分类汇总\n",
    "print(groupby_data_smote) #打印输出经过SMOTE处理后的数据集样本分类分布"
   ]
  },
  {
   "cell_type": "code",
   "execution_count": 13,
   "metadata": {},
   "outputs": [
    {
     "name": "stdout",
     "output_type": "stream",
     "text": [
      "       col1  col2  col3  col4  col5\n",
      "label                              \n",
      "0.0      58    58    58    58    58\n",
      "1.0      58    58    58    58    58\n"
     ]
    }
   ],
   "source": [
    "#使用RandomUnderSampler方法进行欠抽样处理\n",
    "model_RandomUnderSampler=RandomUnderSampler() #建立RandomUnderSampler模型对象\n",
    "x_RandomUnderSampler_resampled,y_RandomUnderSampler_resampled=model_RandomUnderSampler.fit_sample(x,y) #输入数据并作欠抽样处理\n",
    "x_RandomUnderSampler_resampled=pd.DataFrame(x_RandomUnderSampler_resampled,columns=['col1','col2','col3','col4','col5']) #将数据转换为数据框并命名列名\n",
    "y_RandomUnderSampler_resampled=pd.DataFrame(y_RandomUnderSampler_resampled,columns=['label']) #将数据转换为数据框并命名列名\n",
    "RandomUnderSampler_resampled=pd.concat([x_RandomUnderSampler_resampled,y_RandomUnderSampler_resampled],axis=1) #按列合并数据集\n",
    "groupby_data_RandomUnderSampler=RandomUnderSampler=RandomUnderSampler_resampled.groupby('label').count() #对label做分类汇总\n",
    "print(groupby_data_RandomUnderSampler) #打印输出经过RandomUnderSampler 处理后的数据集样本分类分布\n",
    "\n",
    "\n",
    "\n"
   ]
  },
  {
   "cell_type": "code",
   "execution_count": 14,
   "metadata": {},
   "outputs": [
    {
     "data": {
      "text/plain": [
       "SVC(C=1.0, cache_size=200, class_weight='balanced', coef0=0.0,\n",
       "  decision_function_shape='ovr', degree=3, gamma='auto', kernel='rbf',\n",
       "  max_iter=-1, probability=False, random_state=None, shrinking=True,\n",
       "  tol=0.001, verbose=False)"
      ]
     },
     "execution_count": 14,
     "metadata": {},
     "output_type": "execute_result"
    }
   ],
   "source": [
    "#使用SVM的权重调节处理不均衡样本\n",
    "model_svm=SVC(class_weight='balanced') #创建SVC模型对象并指定类别权重\n",
    "model_svm.fit(x,y) #输入x 和 y并训练模型"
   ]
  },
  {
   "cell_type": "code",
   "execution_count": 15,
   "metadata": {},
   "outputs": [
    {
     "name": "stdout",
     "output_type": "stream",
     "text": [
      "(10, 116, 5)\n",
      "(10, 116)\n"
     ]
    }
   ],
   "source": [
    "#使用集成方法EasyEnsemble处理不均衡样本\n",
    "model_EasyEnsemble=EasyEnsemble()  #建立EasyEnsemble模型对象\n",
    "x_EasyEnsemble_resampled,y_EasyEnsemble_resampled=model_EasyEnsemble.fit_sample(x,y) #输入数据并应用集成方法处理\n",
    "print(x_EasyEnsemble_resampled.shape) #打印输出集成方法处理后的x样本集概况\n",
    "print(y_EasyEnsemble_resampled.shape) #打印输出继承方法处理后的y标签集概况"
   ]
  },
  {
   "cell_type": "code",
   "execution_count": null,
   "metadata": {},
   "outputs": [],
   "source": [
    "#抽取其中一份数据做审查\n",
    "index_num=1 #设置抽样样本集索引\n",
    "x_EasyEnsemble_resampled_t=pd.DataFrame(x_EasyEnsemble_resampled[index_num],columns=['col1','col2','col3','col4','col5'])#将数据转换为数据框并命名\n",
    "y_EasyEnsemble_resampled_t=pd.DataFrame(y_EasyEnsemble_resampled[index_num],columns=['label']) #将数据转换为数据框并命名列名\n",
    "EasyEnsemble_resampled=pd.concat([x_EasyEnsemble_resampled_t,y_EasyEnsemble_resampled_t],axis=1) #按列合并数据框\n",
    "groupby_data_EasyEnsemble=EasyEnsemble_resampled.groupby('label').count() #对label做分类汇总\n",
    "print()\n"
   ]
  },
  {
   "cell_type": "code",
   "execution_count": null,
   "metadata": {},
   "outputs": [],
   "source": []
  },
  {
   "cell_type": "code",
   "execution_count": null,
   "metadata": {},
   "outputs": [],
   "source": []
  },
  {
   "cell_type": "code",
   "execution_count": null,
   "metadata": {},
   "outputs": [],
   "source": []
  }
 ],
 "metadata": {
  "kernelspec": {
   "display_name": "Python [conda env:py3]",
   "language": "python",
   "name": "conda-env-py3-py"
  },
  "language_info": {
   "codemirror_mode": {
    "name": "ipython",
    "version": 3
   },
   "file_extension": ".py",
   "mimetype": "text/x-python",
   "name": "python",
   "nbconvert_exporter": "python",
   "pygments_lexer": "ipython3",
   "version": "3.6.2"
  }
 },
 "nbformat": 4,
 "nbformat_minor": 2
}
