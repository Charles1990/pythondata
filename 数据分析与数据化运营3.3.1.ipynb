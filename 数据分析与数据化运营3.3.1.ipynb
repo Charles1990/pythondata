{
 "cells": [
  {
   "cell_type": "code",
   "execution_count": 20,
   "metadata": {},
   "outputs": [],
   "source": [
    "#3.3 大数据时代，数据运营还需要降维吗\n",
    "import numpy as np\n",
    "import pandas as pd\n",
    "from sklearn.tree import DecisionTreeClassifier\n",
    "from sklearn.decomposition import PCA\n",
    "\n"
   ]
  },
  {
   "cell_type": "code",
   "execution_count": 21,
   "metadata": {},
   "outputs": [],
   "source": [
    "data=np.loadtxt('/Users/qingmo/Downloads/python_book/chapter3/data1.txt')"
   ]
  },
  {
   "cell_type": "code",
   "execution_count": 22,
   "metadata": {},
   "outputs": [
    {
     "name": "stdout",
     "output_type": "stream",
     "text": [
      "[ 1.88622997  1.31785876 -0.16480621  0.56536882 -1.11934542 -0.53218995\n",
      " -0.6843102   1.24149827  1.00579225  0.45485041] 0.0\n"
     ]
    }
   ],
   "source": [
    "x=data[:,:-1]\n",
    "y=data[:,-1]\n",
    "print (x[0],y[0])"
   ]
  },
  {
   "cell_type": "code",
   "execution_count": 23,
   "metadata": {},
   "outputs": [
    {
     "name": "stdout",
     "output_type": "stream",
     "text": [
      "        id     sex   level\n",
      "0  3566841    male    high\n",
      "1  6541227  Female     low\n",
      "2  3512441  Female  middle\n"
     ]
    }
   ],
   "source": [
    "df = pd.DataFrame({'id': [3566841, 6541227, 3512441],\n",
    "                   'sex': ['male', 'Female', 'Female'],\n",
    "                   'level': ['high', 'low', 'middle']})\n",
    "print (df)  # 打印输出原始数据框"
   ]
  },
  {
   "cell_type": "code",
   "execution_count": 24,
   "metadata": {},
   "outputs": [
    {
     "data": {
      "text/plain": [
       "array(['high', 'low', 'middle'], dtype=object)"
      ]
     },
     "execution_count": 24,
     "metadata": {},
     "output_type": "execute_result"
    }
   ],
   "source": [
    "df.values[:,-1]"
   ]
  },
  {
   "cell_type": "code",
   "execution_count": 25,
   "metadata": {},
   "outputs": [
    {
     "data": {
      "text/plain": [
       "array([[3566841, 'male'],\n",
       "       [6541227, 'Female'],\n",
       "       [3512441, 'Female']], dtype=object)"
      ]
     },
     "execution_count": 25,
     "metadata": {},
     "output_type": "execute_result"
    }
   ],
   "source": [
    "df.values[:,:-1]"
   ]
  },
  {
   "cell_type": "code",
   "execution_count": 27,
   "metadata": {},
   "outputs": [
    {
     "name": "stdout",
     "output_type": "stream",
     "text": [
      "[0.03331054 0.01513967 0.02199713 0.119727   0.47930312 0.04776297\n",
      " 0.17111746 0.02585441 0.02012725 0.06566044]\n"
     ]
    }
   ],
   "source": [
    "#使用sklearn的D..判断变量重要性\n",
    "model_tree=DecisionTreeClassifier(random_state=0)\n",
    "model_tree.fit(x,y)\n",
    "feature_importance=model_tree.feature_importances_\n",
    "print(feature_importance)"
   ]
  },
  {
   "cell_type": "code",
   "execution_count": null,
   "metadata": {},
   "outputs": [],
   "source": [
    "model_pca=PCA()\n",
    "model_pca.fit(x)\n",
    "model_pca.transform(x)\n",
    "components_var=model_pca.components_\n",
    "components_var=model_pca.explained_variance_\n",
    "components_var_ratio=model_pca.explained_variance_ratio_\n"
   ]
  },
  {
   "cell_type": "code",
   "execution_count": null,
   "metadata": {},
   "outputs": [],
   "source": []
  }
 ],
 "metadata": {
  "kernelspec": {
   "display_name": "Python [conda env:anaconda3]",
   "language": "python",
   "name": "conda-env-anaconda3-py"
  },
  "language_info": {
   "codemirror_mode": {
    "name": "ipython",
    "version": 3
   },
   "file_extension": ".py",
   "mimetype": "text/x-python",
   "name": "python",
   "nbconvert_exporter": "python",
   "pygments_lexer": "ipython3",
   "version": "3.6.5"
  }
 },
 "nbformat": 4,
 "nbformat_minor": 2
}
